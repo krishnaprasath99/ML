{
 "cells": [
  {
   "cell_type": "markdown",
   "id": "23862019-1651-4510-9163-6b23aeea2ed5",
   "metadata": {},
   "source": [
    "PART II - LOGISTIC REGRESSION\n",
    "Target chosen - Gender (To predict : Male/Female)"
   ]
  },
  {
   "cell_type": "code",
   "execution_count": 4,
   "id": "f64602a9-eb58-422d-a1a6-6f2c5ab6ac27",
   "metadata": {},
   "outputs": [],
   "source": [
    "import pandas as pd\n",
    "import statistics\n",
    "import seaborn as sns\n",
    "import matplotlib.pyplot as plt\n",
    "import numpy as np\n",
    "import pickle\n",
    "\n"
   ]
  },
  {
   "cell_type": "code",
   "execution_count": 5,
   "id": "a7576cb1-d39e-4abb-845e-be1a340c7d22",
   "metadata": {},
   "outputs": [
    {
     "name": "stdout",
     "output_type": "stream",
     "text": [
      "0      1\n",
      "1      0\n",
      "2      0\n",
      "3      1\n",
      "4      0\n",
      "      ..\n",
      "339    1\n",
      "340    0\n",
      "341    1\n",
      "342    1\n",
      "343    0\n",
      "Name: gender, Length: 344, dtype: int64\n"
     ]
    }
   ],
   "source": [
    "df = pd.read_csv('penguins_cleaned.csv')\n",
    "X_data = df.drop('gender',axis='columns')\n",
    "Y_target = df.gender\n",
    "print(Y_target)"
   ]
  },
  {
   "cell_type": "code",
   "execution_count": 29,
   "id": "eaeebaec-91f3-4c82-9c08-3a8a8e9b65ba",
   "metadata": {},
   "outputs": [
    {
     "name": "stdout",
     "output_type": "stream",
     "text": [
      "     species  island  bill_length_mm  bill_depth_mm  flipper_length_mm  \\\n",
      "0          0       2        0.254545       0.666667           0.152542   \n",
      "1          0       2        0.269091       0.511905           0.237288   \n",
      "2          0       2        0.298182       0.583333           0.389831   \n",
      "3          0       2        0.487062       0.585514           0.436693   \n",
      "4          0       2        0.167273       0.738095           0.355932   \n",
      "..       ...     ...             ...            ...                ...   \n",
      "270        2       0        0.549091       0.071429           0.711864   \n",
      "271        2       0        0.487062       0.585514           0.436693   \n",
      "272        2       0        0.534545       0.142857           0.728814   \n",
      "273        2       0        0.665455       0.309524           0.847458   \n",
      "274        2       0        0.476364       0.202381           0.677966   \n",
      "\n",
      "     body_mass_g  \n",
      "0       0.291667  \n",
      "1       0.305556  \n",
      "2       0.152778  \n",
      "3       0.375000  \n",
      "4       0.208333  \n",
      "..           ...  \n",
      "270     0.618056  \n",
      "271     0.409851  \n",
      "272     0.597222  \n",
      "273     0.847222  \n",
      "274     0.694444  \n",
      "\n",
      "[275 rows x 6 columns]      species  island  bill_length_mm  bill_depth_mm  flipper_length_mm  \\\n",
      "275        2       0        0.647273       0.357143           0.694915   \n",
      "276        1       1        0.523636       0.571429           0.338983   \n",
      "277        1       1        0.650909       0.761905           0.406780   \n",
      "278        1       1        0.698182       0.726190           0.355932   \n",
      "279        1       0        0.476364       0.666667           0.436693   \n",
      "..       ...     ...             ...            ...                ...   \n",
      "339        1       1        0.861818       0.797619           0.593220   \n",
      "340        1       1        0.414545       0.595238           0.508475   \n",
      "341        1       1        0.636364       0.607143           0.355932   \n",
      "342        1       1        0.680000       0.702381           0.644068   \n",
      "343        1       1        0.658182       0.666667           0.440678   \n",
      "\n",
      "     body_mass_g  \n",
      "275     0.750000  \n",
      "276     0.222222  \n",
      "277     0.333333  \n",
      "278     0.263889  \n",
      "279     0.229167  \n",
      "..           ...  \n",
      "339     0.361111  \n",
      "340     0.194444  \n",
      "341     0.298611  \n",
      "342     0.388889  \n",
      "343     0.298611  \n",
      "\n",
      "[69 rows x 6 columns] 0      1\n",
      "1      0\n",
      "2      0\n",
      "3      1\n",
      "4      0\n",
      "      ..\n",
      "270    0\n",
      "271    1\n",
      "272    0\n",
      "273    1\n",
      "274    0\n",
      "Name: gender, Length: 275, dtype: int8 275    1\n",
      "276    0\n",
      "277    1\n",
      "278    1\n",
      "279    0\n",
      "      ..\n",
      "339    1\n",
      "340    0\n",
      "341    1\n",
      "342    1\n",
      "343    0\n",
      "Name: gender, Length: 69, dtype: int8\n",
      "Shape :  (275, 6) (69, 6) (275,) (69,)\n",
      "Shape of df :  (344, 7)\n"
     ]
    }
   ],
   "source": [
    "data_size = len(df)\n",
    "train_count = int(0.8*data_size)\n",
    "\n",
    "X_train = X_data[:train_count]\n",
    "X_test = X_data[train_count:]\n",
    "Y_train = Y_target[:train_count]\n",
    "Y_test = Y_target[train_count:]\n",
    "\n",
    "\n",
    "print(X_train,X_test,Y_train,Y_test)\n",
    "print(\"Shape : \",np.shape(X_train),np.shape(X_test),np.shape(Y_train),np.shape(Y_test))\n",
    "print(\"Shape of df : \",np.shape(df))"
   ]
  },
  {
   "cell_type": "code",
   "execution_count": 38,
   "id": "b6f5cbe9-e09b-498a-aca3-62d6a4717f0c",
   "metadata": {},
   "outputs": [
    {
     "name": "stdout",
     "output_type": "stream",
     "text": [
      "69\n",
      "Correct predictions :  43\n",
      "Incorrect predictions :  26\n",
      "weight [-0.43644849 -0.31200497  0.48173602  0.65854481  0.09974323  0.87812694]\n",
      "Accuracy with lr = 0.01 and 1000 iterations :  62\n",
      "69\n",
      "Correct predictions :  43\n",
      "Incorrect predictions :  26\n",
      "weight [-0.4252357  -0.14670681  0.69305872  0.0794824   0.32872377  0.65664958]\n",
      "Accuracy with lr = 0.001 and 10000 iterations :  62\n",
      "69\n",
      "Correct predictions :  59\n",
      "Incorrect predictions :  10\n",
      "weight [-0.96305775 -0.67409477  1.06986703  0.70413531  0.09266983  1.94218155]\n",
      "Accuracy with lr = 0.001 and 100000 iterations :  86\n"
     ]
    }
   ],
   "source": [
    "class LogisticRegression():\n",
    "    def __init__(self, learning_rate, iterations):\n",
    "        self.learning_rate= learning_rate\n",
    "        self.iterations = iterations\n",
    "        self.weights=[]\n",
    "        self.yPred=0\n",
    "    def sigmoid(self,val):\n",
    "        sigmoid_fun = (1/(1+np.exp(-val)))\n",
    "        return sigmoid_fun\n",
    "    def cost(self,X,y):\n",
    "        yPred = self.sigmoid(np.dot(X,self.weights))\n",
    "        #print(yPred)\n",
    "        loss = -1 * np.mean( y*np.log10(yPred) + (1-y)*np.log10(1-yPred)) \n",
    "        #print('loss : ',loss)\n",
    "        return loss\n",
    "    def gradient_descent(self, w, X, y, lr):\n",
    "        n = X.shape[0]\n",
    "        gradient = (1/n) * np.dot(X.T, (self.yPred - y))\n",
    "        self.weights -= (lr * gradient.T)\n",
    "    def predict(self,w,X):\n",
    "        yPred = self.sigmoid(np.dot(X,w))\n",
    "        #print(yPred)\n",
    "        ans_arr = []\n",
    "        #print(yPred)\n",
    "        for y in yPred:\n",
    "            if (y>=0.5):\n",
    "                ans_arr.append(1)\n",
    "            else:\n",
    "                ans_arr.append(0)\n",
    "        return ans_arr\n",
    "    def initialize_weights(self, num_features): \n",
    "        w = np.random.uniform(0,1,(num_features))\n",
    "        return w\n",
    "    def fit(self,X, y, learning_rate=0.001, iterations=100000):\n",
    "        ones = np.ones((X.shape[0],1),dtype=int)\n",
    "        self.weights = self.initialize_weights(X.shape[1])\n",
    "        tr_loss_arr=[]\n",
    "        for i in range(iterations):\n",
    "            self.yPred = self.sigmoid(np.dot(X,self.weights))\n",
    "            self.gradient_descent(self.weights,X,y,learning_rate)\n",
    "            loss_val = self.cost(X,y) #RETURN OUTSIDE LOOP\n",
    "            #print(loss_val)\n",
    "            tr_loss_arr.append(loss_val)\n",
    "        return tr_loss_arr\n",
    "    def find_accuracy(self,Y_ground,Y_pred):\n",
    "        n=len(Y_pred)\n",
    "        y_pred_arr = []\n",
    "        y_grnd_arr = []\n",
    "        correct_val = 0\n",
    "        print(n)\n",
    "        for i in Y_pred:\n",
    "            y_pred_arr.append(i)\n",
    "        for i in Y_ground:\n",
    "            y_grnd_arr.append(i)\n",
    "        for i in range (len(y_pred_arr)):\n",
    "            if(y_grnd_arr[i]==y_pred_arr[i]):\n",
    "                correct_val+=1;\n",
    "        print('Correct predictions : ', correct_val)\n",
    "        print('Incorrect predictions : ',n-correct_val)\n",
    "        return round(correct_val/n*100)\n",
    "\n",
    "\n",
    "if __name__ == '__main__':\n",
    "    log_reg = LogisticRegression(0.01,100)\n",
    "    \n",
    "    Y_train_loss1 = log_reg.fit(X_train,Y_train,0.01,1000)\n",
    "    Y_pred = log_reg.predict(log_reg.weights,X_test)\n",
    "    accuracy = log_reg.find_accuracy(Y_test,Y_pred)\n",
    "    print('weight',log_reg.weights)\n",
    "    print('Accuracy with lr = 0.01 and 1000 iterations : ',accuracy)\n",
    "    \n",
    "    Y_train_loss2 = log_reg.fit(X_train,Y_train,0.001,10000)\n",
    "    Y_pred = log_reg.predict(log_reg.weights,X_test)\n",
    "    accuracy = log_reg.find_accuracy(Y_test,Y_pred)\n",
    "    print('weight',log_reg.weights)\n",
    "    print('Accuracy with lr = 0.001 and 10000 iterations : ',accuracy)\n",
    "\n",
    "    Y_train_loss3 = log_reg.fit(X_train,Y_train,0.001,100000)\n",
    "    Y_pred = log_reg.predict(log_reg.weights,X_test)\n",
    "    accuracy = log_reg.find_accuracy(Y_test,Y_pred)\n",
    "    print('weight',log_reg.weights)\n",
    "    print('Accuracy with lr = 0.001 and 100000 iterations : ',accuracy)\n",
    "    \n",
    "#plot, weight print, pickle\n",
    "    \n",
    "    "
   ]
  },
  {
   "cell_type": "code",
   "execution_count": 39,
   "id": "f0966747-5a7b-40eb-84b4-3896244e2692",
   "metadata": {},
   "outputs": [],
   "source": [
    "pickle_filename = 'logreg_penguins.p'\n",
    "model_info = {\n",
    "    'learning rate' : 0.001,\n",
    "    'iterations' : 100000,\n",
    "    'model_weights': log_reg.weights,  # Store the model weights\n",
    "    'accuracy': accuracy  # Store the accuracy\n",
    "}\n",
    "with open(pickle_filename, 'wb') as file:\n",
    "    pickle.dump(model_info,file)"
   ]
  },
  {
   "cell_type": "code",
   "execution_count": 40,
   "id": "ed46df36-4eff-45b9-a472-ffd33c05ae81",
   "metadata": {},
   "outputs": [
    {
     "data": {
      "text/plain": [
       "{'learning rate': 0.001,\n",
       " 'iterations': 100000,\n",
       " 'model_weights': array([-0.96305775, -0.67409477,  1.06986703,  0.70413531,  0.09266983,\n",
       "         1.94218155]),\n",
       " 'accuracy': 86}"
      ]
     },
     "execution_count": 40,
     "metadata": {},
     "output_type": "execute_result"
    }
   ],
   "source": [
    "pd.read_pickle(pickle_filename)"
   ]
  },
  {
   "cell_type": "code",
   "execution_count": 41,
   "id": "3baa27bc-7c48-421b-b69c-d370eab3058f",
   "metadata": {},
   "outputs": [
    {
     "name": "stdout",
     "output_type": "stream",
     "text": [
      "{'learning rate': 0.001, 'iterations': 100000, 'model_weights': array([-0.96305775, -0.67409477,  1.06986703,  0.70413531,  0.09266983,\n",
      "        1.94218155]), 'accuracy': 86}\n"
     ]
    }
   ],
   "source": [
    "with open(pickle_filename, 'rb') as file:\n",
    "    loaded_model = pickle.load(file)\n",
    "print(loaded_model)"
   ]
  },
  {
   "cell_type": "code",
   "execution_count": 42,
   "id": "10ec545c-7813-49e6-aadc-838f6a7bcd6b",
   "metadata": {},
   "outputs": [
    {
     "data": {
      "image/png": "[encoded data removed]",
      "text/plain": [
       "<Figure size 640x480 with 1 Axes>"
      ]
     },
     "metadata": {},
     "output_type": "display_data"
    },
    {
     "data": {
      "image/png": "[encoded data removed]",
      "text/plain": [
       "<Figure size 640x480 with 1 Axes>"
      ]
     },
     "metadata": {},
     "output_type": "display_data"
    },
    {
     "data": {
      "image/png": "[encoded data removed]",
      "text/plain": [
       "<Figure size 640x480 with 1 Axes>"
      ]
     },
     "metadata": {},
     "output_type": "display_data"
    }
   ],
   "source": [
    "plt.plot(np.arange(1,1001),Y_train_loss1)\n",
    "plt.xlabel('Iterations')\n",
    "plt.ylabel('loss')\n",
    "plt.show()\n",
    "\n",
    "plt.plot(np.arange(1,10001),Y_train_loss2)\n",
    "plt.xlabel('Iterations')\n",
    "plt.ylabel('loss')\n",
    "plt.show()\n",
    "\n",
    "plt.plot(np.arange(1,100001),Y_train_loss3)\n",
    "plt.xlabel('Iterations')\n",
    "plt.ylabel('loss')\n",
    "plt.show()"
   ]
  },
  {
   "cell_type": "code",
   "execution_count": 78,
   "id": "994ec693-a07b-4ddf-a0f0-d11fb109734b",
   "metadata": {},
   "outputs": [
    {
     "data": {
      "text/plain": [
       "'\\nBest accuracy : 86%\\n\\nFrom the losss graph it is analysed that when the iterations increases the loss decreases\\n\\nIteration1:\\nCorrect predictions :  43\\nIncorrect predictions :  26    \\nweight [-0.43644849 -0.31200497  0.48173602  0.65854481  0.09974323  0.87812694    ]\\nAccuracy with lr = 0.01 and 1000 iterations :  62\\n\\nIterati2:\\n  Correct predictions :  3\\n    \\nIncorrect predictions :  26    \\nweight [-0.4252357  -0.14670681  0.69305872  0.0794824   0.32872377  0.65664958    <br>]\\nAccuracy with lr = 0.001 and 10000 iteration62622:\\n\\nIttion3:\\n    Correct predictions : 59\\n    \\nIncorrect predictions :  10    \\nweight [-0.96305775 -0.67409477  1.06986703  0.70413531  0.09266983  1.94218155    ]\\nAccuracy with lr = 0.001 and 100000 iterati86ons : \\n\\nADVANTAGES:\\nLogistic regression is easy to implement\\nIt provides good accuracy and faster classification\\nIt can determine the weight co-efficients efficiently\\nDISADVANTAGES:\\nIf features is greater than the number of data samples it doesnt fit\\nIt can only solve linearly seperable data\\nSensitive to outliers\\n'"
      ]
     },
     "execution_count": 78,
     "metadata": {},
     "output_type": "execute_result"
    }
   ],
   "source": [
    "'''\n",
    "Best accuracy : 86%\n",
    "\n",
    "From the losss graph it is analysed that when the iterations increases the loss decreases\n",
    "\n",
    "Iteration1:\n",
    "Correct predictions :  43\n",
    "Incorrect predictions :  26    \n",
    "weight [-0.43644849 -0.31200497  0.48173602  0.65854481  0.09974323  0.87812694    ]\n",
    "Accuracy with lr = 0.01 and 1000 iterations :  62\n",
    "\n",
    "Iterati2:\n",
    "  Correct predictions :  3\n",
    "    \n",
    "Incorrect predictions :  26    \n",
    "weight [-0.4252357  -0.14670681  0.69305872  0.0794824   0.32872377  0.65664958    <br>]\n",
    "Accuracy with lr = 0.001 and 10000 iteration62622:\n",
    "\n",
    "Ittion3:\n",
    "    Correct predictions : 59\n",
    "    \n",
    "Incorrect predictions :  10    \n",
    "weight [-0.96305775 -0.67409477  1.06986703  0.70413531  0.09266983  1.94218155    ]\n",
    "Accuracy with lr = 0.001 and 100000 iterati86ons : \n",
    "\n",
    "ADVANTAGES:\n",
    "Logistic regression is easy to implement\n",
    "It provides good accuracy and faster classification\n",
    "It can determine the weight co-efficients efficiently\n",
    "DISADVANTAGES:\n",
    "If features is greater than the number of data samples it doesnt fit\n",
    "It can only solve linearly seperable data\n",
    "Sensitive to outliers\n",
    "'''"
   ]
  },
  {
   "cell_type": "markdown",
   "id": "f71f5201-1604-4f2e-85a9-e1e002e586fd",
   "metadata": {},
   "source": []
  }
 ],
 "metadata": {
  "kernelspec": {
   "display_name": "Python 3 (ipykernel)",
   "language": "python",
   "name": "python3"
  },
  "language_info": {
   "codemirror_mode": {
    "name": "ipython",
    "version": 3
   },
   "file_extension": ".py",
   "mimetype": "text/x-python",
   "name": "python",
   "nbconvert_exporter": "python",
   "pygments_lexer": "ipython3",
   "version": "3.11.5"
  }
 },
 "nbformat": 4,
 "nbformat_minor": 5
}
